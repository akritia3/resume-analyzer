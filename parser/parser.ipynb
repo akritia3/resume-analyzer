{
 "cells": [
  {
   "cell_type": "code",
   "execution_count": null,
   "metadata": {},
   "outputs": [],
   "source": [
    "import PyPDF2\n",
    "\n",
    "# Function to parse a PDF resume\n",
    "def parse_pdf_resume(file_path):\n",
    "    text = \"\"\n",
    "    pdf_reader = PyPDF2.PdfReader(file_path)\n",
    "    \n",
    "    # Loop through each page and extract text\n",
    "    for page_num in range(len(pdf_reader.pages)):\n",
    "        page = pdf_reader.pages[page_num]\n",
    "        text += page.extract_text()\n",
    "\n",
    "    return text\n",
    "\n",
    "# Provide the path to the PDF resume\n",
    "file_path = input(\"Enter the path to the PDF resume file: \")\n",
    "\n",
    "# output file\n",
    "output_file_path = \"parsed_resume.txt\"\n",
    "\n",
    "# Parse the PDF resume\n",
    "parsed_text = parse_pdf_resume(file_path)\n",
    "\n",
    "# Display the parsed text\n",
    "print(\"Parsed Text from PDF Resume:\")\n",
    "print(parsed_text)\n"
   ]
  }
 ],
 "metadata": {
  "kernelspec": {
   "display_name": "Python 3",
   "language": "python",
   "name": "python3"
  },
  "language_info": {
   "codemirror_mode": {
    "name": "ipython",
    "version": 3
   },
   "file_extension": ".py",
   "mimetype": "text/x-python",
   "name": "python",
   "nbconvert_exporter": "python",
   "pygments_lexer": "ipython3",
   "version": "3.11.4"
  },
  "orig_nbformat": 4,
  "vscode": {
   "interpreter": {
    "hash": "aee8b7b246df8f9039afb4144a1f6fd8d2ca17a180786b69acc140d282b71a49"
   }
  }
 },
 "nbformat": 4,
 "nbformat_minor": 2
}
